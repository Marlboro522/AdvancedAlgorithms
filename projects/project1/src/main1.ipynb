{
 "cells": [
  {
   "cell_type": "code",
   "execution_count": 10,
   "id": "d77393cb-04a7-44ba-9766-fcc78005a3eb",
   "metadata": {},
   "outputs": [
    {
     "ename": "AttributeError",
     "evalue": "module 'osmnx' has no attribute 'cities'",
     "output_type": "error",
     "traceback": [
      "\u001b[0;31m---------------------------------------------------------------------------\u001b[0m",
      "\u001b[0;31mAttributeError\u001b[0m                            Traceback (most recent call last)",
      "Cell \u001b[0;32mIn[10], line 3\u001b[0m\n\u001b[1;32m      1\u001b[0m \u001b[38;5;28;01mimport\u001b[39;00m\u001b[38;5;250m \u001b[39m\u001b[38;5;21;01mosmnx\u001b[39;00m\n\u001b[0;32m----> 3\u001b[0m \u001b[38;5;28mprint\u001b[39m(\u001b[43mosmnx\u001b[49m\u001b[38;5;241;43m.\u001b[39;49m\u001b[43mcities\u001b[49m())\n",
      "\u001b[0;31mAttributeError\u001b[0m: module 'osmnx' has no attribute 'cities'"
     ]
    }
   ],
   "source": [
    "#sample djisktra's implementation:\n",
    "\n",
    "#Input: A graph G with Vertices V and Edges E. A starting verteex s belongs to V and a non-negativ length l_e for each edge e belongs to E\n",
    "#Output: dist(s,v) for every vertex v belongs to V. "
   ]
  }
 ],
 "metadata": {
  "kernelspec": {
   "display_name": ".venv",
   "language": "python",
   "name": "python3"
  },
  "language_info": {
   "codemirror_mode": {
    "name": "ipython",
    "version": 3
   },
   "file_extension": ".py",
   "mimetype": "text/x-python",
   "name": "python",
   "nbconvert_exporter": "python",
   "pygments_lexer": "ipython3",
   "version": "3.13.2"
  }
 },
 "nbformat": 4,
 "nbformat_minor": 5
}
