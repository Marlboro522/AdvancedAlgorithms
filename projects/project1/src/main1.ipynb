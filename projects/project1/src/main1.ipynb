{
 "cells": [
  {
   "cell_type": "code",
   "execution_count": 1,
   "id": "d77393cb-04a7-44ba-9766-fcc78005a3eb",
   "metadata": {},
   "outputs": [],
   "source": [
    "#sample djisktra's implementation:\n",
    "\n",
    "#Input: A graph G with Vertices V and Edges E. A starting verteex s belongs to V and a non-negativ length l_e for each edge e belongs to E\n",
    "#Output: dist(s,v) for every vertex v belongs to V. "
   ]
  }
 ],
 "metadata": {
  "kernelspec": {
   "display_name": ".venv",
   "language": "python",
   "name": "python3"
  },
  "language_info": {
   "codemirror_mode": {
    "name": "ipython",
    "version": 3
   },
   "file_extension": ".py",
   "mimetype": "text/x-python",
   "name": "python",
   "nbconvert_exporter": "python",
   "pygments_lexer": "ipython3",
   "version": "3.13.2"
  }
 },
 "nbformat": 4,
 "nbformat_minor": 5
}
